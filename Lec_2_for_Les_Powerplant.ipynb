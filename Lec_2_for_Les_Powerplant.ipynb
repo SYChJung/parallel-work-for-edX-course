{
 "cells": [
  {
   "cell_type": "code",
   "execution_count": 2,
   "metadata": {
    "collapsed": true
   },
   "outputs": [],
   "source": [
    "import pandas as pd\n"
   ]
  },
  {
   "cell_type": "code",
   "execution_count": 4,
   "metadata": {
    "scrolled": true
   },
   "outputs": [
    {
     "data": {
      "text/html": [
       "<div>\n",
       "<style>\n",
       "    .dataframe thead tr:only-child th {\n",
       "        text-align: right;\n",
       "    }\n",
       "\n",
       "    .dataframe thead th {\n",
       "        text-align: left;\n",
       "    }\n",
       "\n",
       "    .dataframe tbody tr th {\n",
       "        vertical-align: top;\n",
       "    }\n",
       "</style>\n",
       "<table border=\"1\" class=\"dataframe\">\n",
       "  <thead>\n",
       "    <tr style=\"text-align: right;\">\n",
       "      <th></th>\n",
       "      <th>Plant_Code</th>\n",
       "      <th>Plant_Name</th>\n",
       "      <th>Utility_Na</th>\n",
       "      <th>Utility_ID</th>\n",
       "      <th>sector_nam</th>\n",
       "      <th>City</th>\n",
       "      <th>County</th>\n",
       "      <th>Zip</th>\n",
       "      <th>Street_Add</th>\n",
       "      <th>PrimSource</th>\n",
       "      <th>...</th>\n",
       "      <th>Solar_MW</th>\n",
       "      <th>Wind_MW</th>\n",
       "      <th>Geo_MW</th>\n",
       "      <th>Other_MW</th>\n",
       "      <th>source_des</th>\n",
       "      <th>tech_desc</th>\n",
       "      <th>Source</th>\n",
       "      <th>Period</th>\n",
       "      <th>Latitude</th>\n",
       "      <th>Longitude</th>\n",
       "    </tr>\n",
       "  </thead>\n",
       "  <tbody>\n",
       "    <tr>\n",
       "      <th>0</th>\n",
       "      <td>2</td>\n",
       "      <td>Bankhead Dam</td>\n",
       "      <td>Alabama Power Co</td>\n",
       "      <td>195</td>\n",
       "      <td>Electric Utility</td>\n",
       "      <td>Northport</td>\n",
       "      <td>Tuscaloosa</td>\n",
       "      <td>35476</td>\n",
       "      <td>19001 Lock 17 Road</td>\n",
       "      <td>hydroelectric</td>\n",
       "      <td>...</td>\n",
       "      <td>0.0</td>\n",
       "      <td>0.0</td>\n",
       "      <td>NaN</td>\n",
       "      <td>NaN</td>\n",
       "      <td>Hydroelectric = 56 MW</td>\n",
       "      <td>Conventional Hydroelectric</td>\n",
       "      <td>EIA-860, EIA-860M and EIA-923</td>\n",
       "      <td>201607</td>\n",
       "      <td>33.458665</td>\n",
       "      <td>-87.356823</td>\n",
       "    </tr>\n",
       "    <tr>\n",
       "      <th>1</th>\n",
       "      <td>3</td>\n",
       "      <td>Barry</td>\n",
       "      <td>Alabama Power Co</td>\n",
       "      <td>195</td>\n",
       "      <td>Electric Utility</td>\n",
       "      <td>Bucks</td>\n",
       "      <td>Mobile</td>\n",
       "      <td>36512</td>\n",
       "      <td>North Highway 43</td>\n",
       "      <td>coal</td>\n",
       "      <td>...</td>\n",
       "      <td>0.0</td>\n",
       "      <td>0.0</td>\n",
       "      <td>NaN</td>\n",
       "      <td>NaN</td>\n",
       "      <td>Coal = 1088.5 MW, Natural Gas = 1072 MW</td>\n",
       "      <td>Conventional Steam Coal; Natural Gas Fired Com...</td>\n",
       "      <td>EIA-860, EIA-860M and EIA-923</td>\n",
       "      <td>201607</td>\n",
       "      <td>31.006900</td>\n",
       "      <td>-88.010300</td>\n",
       "    </tr>\n",
       "    <tr>\n",
       "      <th>2</th>\n",
       "      <td>4</td>\n",
       "      <td>Walter Bouldin Dam</td>\n",
       "      <td>Alabama Power Co</td>\n",
       "      <td>195</td>\n",
       "      <td>Electric Utility</td>\n",
       "      <td>Wetumpka</td>\n",
       "      <td>Elmore</td>\n",
       "      <td>36092</td>\n",
       "      <td>750 Bouldin Dam Road</td>\n",
       "      <td>hydroelectric</td>\n",
       "      <td>...</td>\n",
       "      <td>0.0</td>\n",
       "      <td>0.0</td>\n",
       "      <td>NaN</td>\n",
       "      <td>NaN</td>\n",
       "      <td>Hydroelectric = 225.9 MW</td>\n",
       "      <td>Conventional Hydroelectric</td>\n",
       "      <td>EIA-860, EIA-860M and EIA-923</td>\n",
       "      <td>201607</td>\n",
       "      <td>32.583889</td>\n",
       "      <td>-86.283056</td>\n",
       "    </tr>\n",
       "    <tr>\n",
       "      <th>3</th>\n",
       "      <td>7</td>\n",
       "      <td>Gadsden</td>\n",
       "      <td>Alabama Power Co</td>\n",
       "      <td>195</td>\n",
       "      <td>Electric Utility</td>\n",
       "      <td>Gadsden</td>\n",
       "      <td>Etowah</td>\n",
       "      <td>35903</td>\n",
       "      <td>1000 Goodyear Ave</td>\n",
       "      <td>natural gas</td>\n",
       "      <td>...</td>\n",
       "      <td>0.0</td>\n",
       "      <td>0.0</td>\n",
       "      <td>NaN</td>\n",
       "      <td>NaN</td>\n",
       "      <td>Natural Gas = 130 MW</td>\n",
       "      <td>Natural Gas Steam Turbine</td>\n",
       "      <td>EIA-860, EIA-860M and EIA-923</td>\n",
       "      <td>201607</td>\n",
       "      <td>34.012800</td>\n",
       "      <td>-85.970800</td>\n",
       "    </tr>\n",
       "    <tr>\n",
       "      <th>4</th>\n",
       "      <td>8</td>\n",
       "      <td>Gorgas</td>\n",
       "      <td>Alabama Power Co</td>\n",
       "      <td>195</td>\n",
       "      <td>Electric Utility</td>\n",
       "      <td>Parrish</td>\n",
       "      <td>Walker</td>\n",
       "      <td>35580</td>\n",
       "      <td>460 Gorgas Road</td>\n",
       "      <td>coal</td>\n",
       "      <td>...</td>\n",
       "      <td>0.0</td>\n",
       "      <td>0.0</td>\n",
       "      <td>NaN</td>\n",
       "      <td>NaN</td>\n",
       "      <td>Coal = 1034 MW</td>\n",
       "      <td>Conventional Steam Coal</td>\n",
       "      <td>EIA-860, EIA-860M and EIA-923</td>\n",
       "      <td>201607</td>\n",
       "      <td>33.644344</td>\n",
       "      <td>-87.196486</td>\n",
       "    </tr>\n",
       "  </tbody>\n",
       "</table>\n",
       "<p>5 rows × 28 columns</p>\n",
       "</div>"
      ],
      "text/plain": [
       "   Plant_Code          Plant_Name        Utility_Na  Utility_ID  \\\n",
       "0           2        Bankhead Dam  Alabama Power Co         195   \n",
       "1           3               Barry  Alabama Power Co         195   \n",
       "2           4  Walter Bouldin Dam  Alabama Power Co         195   \n",
       "3           7             Gadsden  Alabama Power Co         195   \n",
       "4           8              Gorgas  Alabama Power Co         195   \n",
       "\n",
       "         sector_nam       City      County    Zip            Street_Add  \\\n",
       "0  Electric Utility  Northport  Tuscaloosa  35476    19001 Lock 17 Road   \n",
       "1  Electric Utility      Bucks      Mobile  36512      North Highway 43   \n",
       "2  Electric Utility   Wetumpka      Elmore  36092  750 Bouldin Dam Road   \n",
       "3  Electric Utility    Gadsden      Etowah  35903     1000 Goodyear Ave   \n",
       "4  Electric Utility    Parrish      Walker  35580       460 Gorgas Road   \n",
       "\n",
       "      PrimSource    ...      Solar_MW  Wind_MW  Geo_MW  Other_MW  \\\n",
       "0  hydroelectric    ...           0.0      0.0     NaN       NaN   \n",
       "1           coal    ...           0.0      0.0     NaN       NaN   \n",
       "2  hydroelectric    ...           0.0      0.0     NaN       NaN   \n",
       "3    natural gas    ...           0.0      0.0     NaN       NaN   \n",
       "4           coal    ...           0.0      0.0     NaN       NaN   \n",
       "\n",
       "                                source_des  \\\n",
       "0                    Hydroelectric = 56 MW   \n",
       "1  Coal = 1088.5 MW, Natural Gas = 1072 MW   \n",
       "2                 Hydroelectric = 225.9 MW   \n",
       "3                     Natural Gas = 130 MW   \n",
       "4                           Coal = 1034 MW   \n",
       "\n",
       "                                           tech_desc  \\\n",
       "0                         Conventional Hydroelectric   \n",
       "1  Conventional Steam Coal; Natural Gas Fired Com...   \n",
       "2                         Conventional Hydroelectric   \n",
       "3                          Natural Gas Steam Turbine   \n",
       "4                            Conventional Steam Coal   \n",
       "\n",
       "                          Source  Period   Latitude  Longitude  \n",
       "0  EIA-860, EIA-860M and EIA-923  201607  33.458665 -87.356823  \n",
       "1  EIA-860, EIA-860M and EIA-923  201607  31.006900 -88.010300  \n",
       "2  EIA-860, EIA-860M and EIA-923  201607  32.583889 -86.283056  \n",
       "3  EIA-860, EIA-860M and EIA-923  201607  34.012800 -85.970800  \n",
       "4  EIA-860, EIA-860M and EIA-923  201607  33.644344 -87.196486  \n",
       "\n",
       "[5 rows x 28 columns]"
      ]
     },
     "execution_count": 4,
     "metadata": {},
     "output_type": "execute_result"
    }
   ],
   "source": [
    "# from datascience import *\n",
    "df_powerplant = pd.read_csv(\"powerplants2.csv\") #.column(\"Population\")\n",
    "df_powerplant.head()\n"
   ]
  },
  {
   "cell_type": "code",
   "execution_count": 8,
   "metadata": {},
   "outputs": [
    {
     "data": {
      "text/plain": [
       "0       0.0\n",
       "1    1088.5\n",
       "2       0.0\n",
       "3       0.0\n",
       "4    1034.0\n",
       "Name: Coal_MW, dtype: float64"
      ]
     },
     "execution_count": 8,
     "metadata": {},
     "output_type": "execute_result"
    }
   ],
   "source": [
    "Coal_power = pd.read_csv(\"powerplants2.csv\")[\"Coal_MW\"]\n",
    "Coal_power.head()\n"
   ]
  },
  {
   "cell_type": "code",
   "execution_count": 9,
   "metadata": {},
   "outputs": [
    {
     "data": {
      "text/plain": [
       "0.0"
      ]
     },
     "execution_count": 9,
     "metadata": {},
     "output_type": "execute_result"
    }
   ],
   "source": [
    "Coal_power[0]\n"
   ]
  },
  {
   "cell_type": "code",
   "execution_count": 12,
   "metadata": {},
   "outputs": [
    {
     "data": {
      "text/plain": [
       "0          0.0\n",
       "1    1088500.0\n",
       "2          0.0\n",
       "3          0.0\n",
       "4    1034000.0\n",
       "Name: Coal_MW, dtype: float64"
      ]
     },
     "execution_count": 12,
     "metadata": {},
     "output_type": "execute_result"
    }
   ],
   "source": [
    "Coal_power_in_kW = Coal_power*1000\n",
    "Coal_power_in_kW.head()\n"
   ]
  },
  {
   "cell_type": "code",
   "execution_count": 13,
   "metadata": {},
   "outputs": [
    {
     "data": {
      "text/plain": [
       "0    0.0000\n",
       "1    1.0885\n",
       "2    0.0000\n",
       "3    0.0000\n",
       "4    1.0340\n",
       "Name: Coal_MW, dtype: float64"
      ]
     },
     "execution_count": 13,
     "metadata": {},
     "output_type": "execute_result"
    }
   ],
   "source": [
    "Coal_power_in_GW = Coal_power/1000\n",
    "Coal_power_in_GW.head()\n"
   ]
  },
  {
   "cell_type": "code",
   "execution_count": 36,
   "metadata": {
    "collapsed": true
   },
   "outputs": [],
   "source": [
    "powerplants2 = pd.read_csv(\"powerplants2.csv\")\n"
   ]
  },
  {
   "cell_type": "code",
   "execution_count": 37,
   "metadata": {
    "collapsed": true
   },
   "outputs": [],
   "source": [
    "Natural_Gas_power = powerplants2[\"NG_MW\"]\n",
    "Crude_power       = powerplants2[\"Crude_MW\"]\n",
    "Bio_power         = powerplants2[\"Bio_MW\"]\n",
    "Hydro_power       = powerplants2[\"Hydro_MW\"]\n",
    "HydroPS_power     = powerplants2[\"HydroPS_MW\"]\n",
    "Nuclear_power     = powerplants2[\"Nuclear_MW\"]\n",
    "Solar_power       = powerplants2[\"Solar_MW\"]\n",
    "Wind_power        = powerplants2[\"Wind_MW\"]\n",
    "Geo_power         = powerplants2[\"Geo_MW\"]\n",
    "Other_power       = powerplants2[\"Other_MW\"]\n"
   ]
  },
  {
   "cell_type": "code",
   "execution_count": 38,
   "metadata": {},
   "outputs": [
    {
     "name": "stdout",
     "output_type": "stream",
     "text": [
      "The total Coal power:\t\t\t\t 272421.9 MW\n",
      "The total Natural Gas power:\t\t\t 447514.1 MW\n",
      "The total Crude Oil power:\t\t\t 36406.1  MW\n",
      "The total Bioenergy power:\t\t\t 14116.9  MW\n",
      "The total Hydroelectric power:\t\t\t 80006.9  MW\n",
      "The total Pumped-storage Hydroelectric power:\t 22670.1  MW\n",
      "The total Nuclear power:\t\t\t 99794.0  MW\n",
      "The total Solar power:\t\t\t\t 15680.0  MW\n",
      "The total Wind power:\t\t\t\t 74707.3  MW\n",
      "The total Geothermal power:\t\t\t 2541.5   MW\n",
      "The total other power:\t\t\t\t 4336.4   MW\n"
     ]
    }
   ],
   "source": [
    "print(\"The total Coal power:\\t\\t\\t\\t\", Coal_power.sum(), \"MW\")\n",
    "print(\"The total Natural Gas power:\\t\\t\\t\", Natural_Gas_power.sum(), \"MW\")\n",
    "print(\"The total Crude Oil power:\\t\\t\\t\", Crude_power.sum(), \" MW\")\n",
    "print(\"The total Bioenergy power:\\t\\t\\t\", Bio_power.sum(), \" MW\")\n",
    "print(\"The total Hydroelectric power:\\t\\t\\t\", Hydro_power.sum(), \" MW\")\n",
    "print(\"The total Pumped-storage Hydroelectric power:\\t\", HydroPS_power.sum(), \" MW\")\n",
    "print(\"The total Nuclear power:\\t\\t\\t\", Nuclear_power.sum(), \" MW\")\n",
    "print(\"The total Solar power:\\t\\t\\t\\t\", Solar_power.sum(), \" MW\")\n",
    "print(\"The total Wind power:\\t\\t\\t\\t\", Wind_power.sum(), \" MW\")\n",
    "print(\"The total Geothermal power:\\t\\t\\t\", Geo_power.sum(), \"  MW\")\n",
    "print(\"The total other power:\\t\\t\\t\\t\", Other_power.sum(), \"  MW\")\n"
   ]
  },
  {
   "cell_type": "code",
   "execution_count": 61,
   "metadata": {},
   "outputs": [],
   "source": [
    "Bio_power   = Bio_power.fillna(value=0)\n",
    "Geo_power   = Geo_power.fillna(value=0)\n",
    "Other_power = Other_power.fillna(value=0)\n"
   ]
  },
  {
   "cell_type": "code",
   "execution_count": 62,
   "metadata": {},
   "outputs": [
    {
     "data": {
      "text/plain": [
       "0      56.0\n",
       "1    2160.5\n",
       "2     225.9\n",
       "3     130.0\n",
       "4    1034.0\n",
       "dtype: float64"
      ]
     },
     "execution_count": 62,
     "metadata": {},
     "output_type": "execute_result"
    }
   ],
   "source": [
    "# Array of entire power of each row, powerplant\n",
    "entire_power = Coal_power + Natural_Gas_power + Crude_power + Hydro_power + HydroPS_power + Nuclear_power + Solar_power + Wind_power + Bio_power + Geo_power + Other_power\n",
    "entire_power.head()\n"
   ]
  },
  {
   "cell_type": "code",
   "execution_count": 63,
   "metadata": {},
   "outputs": [
    {
     "name": "stdout",
     "output_type": "stream",
     "text": [
      "The total power of the entire power plants and sources : 1070195.2 MW\n",
      "The total power of the entire power plants and sources : 1070.2 GW\n"
     ]
    }
   ],
   "source": [
    "# total power of entire row\n",
    "print(\"The total power of the entire power plants and sources :\", entire_power.sum(), \"MW\")\n",
    "print(\"The total power of the entire power plants and sources :\", round(entire_power.sum()/1000, 2), \"GW\")\n"
   ]
  },
  {
   "cell_type": "code",
   "execution_count": null,
   "metadata": {
    "collapsed": true
   },
   "outputs": [],
   "source": []
  }
 ],
 "metadata": {
  "kernelspec": {
   "display_name": "Python 3",
   "language": "python",
   "name": "python3"
  },
  "language_info": {
   "codemirror_mode": {
    "name": "ipython",
    "version": 3
   },
   "file_extension": ".py",
   "mimetype": "text/x-python",
   "name": "python",
   "nbconvert_exporter": "python",
   "pygments_lexer": "ipython3",
   "version": "3.6.1"
  }
 },
 "nbformat": 4,
 "nbformat_minor": 2
}
